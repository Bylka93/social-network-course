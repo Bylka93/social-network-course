{
 "cells": [
  {
   "cell_type": "code",
   "execution_count": 1,
   "metadata": {},
   "outputs": [],
   "source": [
    "import networkx as nx\n",
    "import pandas as pd\n",
    "import numpy as np\n",
    "from scipy import stats\n",
    "import matplotlib.pyplot as plt \n",
    "from networkx.algorithms import community\n",
    "import pickle\n",
    "import csv\n",
    "#import chart_studio.plotly as py\n",
    "#from plotly.graph_objs import *\n",
    "import re\n",
    "import string"
   ]
  },
  {
   "cell_type": "code",
   "execution_count": 2,
   "metadata": {},
   "outputs": [],
   "source": [
    "#Parking"
   ]
  },
  {
   "cell_type": "code",
   "execution_count": 3,
   "metadata": {},
   "outputs": [],
   "source": [
    "df_parking = pd.read_csv('parking_from_january.csv') "
   ]
  },
  {
   "cell_type": "code",
   "execution_count": 4,
   "metadata": {},
   "outputs": [
    {
     "data": {
      "text/plain": [
       "Index(['time', 'user_id', 'username', 'text', 'retweets', 'favorites',\n",
       "       'tweet_hashtags', 'location', 'user_id_str'],\n",
       "      dtype='object')"
      ]
     },
     "execution_count": 4,
     "metadata": {},
     "output_type": "execute_result"
    }
   ],
   "source": [
    "df_parking.columns"
   ]
  },
  {
   "cell_type": "code",
   "execution_count": 5,
   "metadata": {},
   "outputs": [],
   "source": [
    "df_parking[\"time\"] = df_parking[\"time\"].astype(\"datetime64\")"
   ]
  },
  {
   "cell_type": "code",
   "execution_count": 6,
   "metadata": {},
   "outputs": [],
   "source": [
    "newdf_parking = df_parking[['time']].copy()"
   ]
  },
  {
   "cell_type": "code",
   "execution_count": 7,
   "metadata": {
    "scrolled": true
   },
   "outputs": [
    {
     "data": {
      "text/plain": [
       "<matplotlib.axes._subplots.AxesSubplot at 0x2ab763571d0>"
      ]
     },
     "execution_count": 7,
     "metadata": {},
     "output_type": "execute_result"
    },
    {
     "data": {
      "image/png": "[encoded data removed]",
      "text/plain": [
       "<Figure size 432x288 with 1 Axes>"
      ]
     },
     "metadata": {
      "needs_background": "light"
     },
     "output_type": "display_data"
    }
   ],
   "source": [
    "newdf_parking.groupby(newdf_parking[\"time\"].dt.week).count().plot(kind=\"bar\")"
   ]
  },
  {
   "cell_type": "code",
   "execution_count": 11,
   "metadata": {},
   "outputs": [],
   "source": [
    "#ParkingGarage"
   ]
  },
  {
   "cell_type": "code",
   "execution_count": 12,
   "metadata": {},
   "outputs": [],
   "source": [
    "df_parkinggarage = pd.read_csv('parkinggarage_from_january.csv') \n",
    "df_parkinggarage[\"time\"] = df_parkinggarage[\"time\"].astype(\"datetime64\")"
   ]
  },
  {
   "cell_type": "code",
   "execution_count": 14,
   "metadata": {},
   "outputs": [
    {
     "data": {
      "text/plain": [
       "<matplotlib.axes._subplots.AxesSubplot at 0x2ab76d14a20>"
      ]
     },
     "execution_count": 14,
     "metadata": {},
     "output_type": "execute_result"
    },
    {
     "data": {
      "image/png": "[encoded data removed]",
      "text/plain": [
       "<Figure size 432x288 with 1 Axes>"
      ]
     },
     "metadata": {
      "needs_background": "light"
     },
     "output_type": "display_data"
    }
   ],
   "source": [
    "df_parkinggarage.groupby(df_parkinggarage[\"time\"].dt.week).count().plot(kind=\"bar\")"
   ]
  },
  {
   "cell_type": "code",
   "execution_count": 17,
   "metadata": {},
   "outputs": [],
   "source": [
    "df_parkinglot= pd.read_csv('parkinglot_from_january.csv') \n",
    "df_parkinglot[\"time\"] = df_parkinglot[\"time\"].astype(\"datetime64\")"
   ]
  },
  {
   "cell_type": "code",
   "execution_count": 18,
   "metadata": {},
   "outputs": [
    {
     "data": {
      "text/plain": [
       "<matplotlib.axes._subplots.AxesSubplot at 0x2ab76f437f0>"
      ]
     },
     "execution_count": 18,
     "metadata": {},
     "output_type": "execute_result"
    },
    {
     "data": {
      "image/png": "[encoded data removed]",
      "text/plain": [
       "<Figure size 432x288 with 1 Axes>"
      ]
     },
     "metadata": {
      "needs_background": "light"
     },
     "output_type": "display_data"
    }
   ],
   "source": [
    "df_parkinglot = df_parkinglot[['time']].copy()\n",
    "df_parkinglot.groupby(df_parkinglot[\"time\"].dt.week).count().plot(kind=\"bar\")"
   ]
  },
  {
   "cell_type": "code",
   "execution_count": 20,
   "metadata": {},
   "outputs": [],
   "source": [
    "#######################################"
   ]
  },
  {
   "cell_type": "markdown",
   "metadata": {},
   "source": [
    "Clustring Coefficient..... the time evolution of the clustering coefficient in a selected time interval (Each 15 days )"
   ]
  },
  {
   "cell_type": "code",
   "execution_count": 21,
   "metadata": {},
   "outputs": [],
   "source": [
    "DF = pd.read_csv('all_hashtags_combined.csv') "
   ]
  },
  {
   "cell_type": "code",
   "execution_count": 22,
   "metadata": {},
   "outputs": [
    {
     "data": {
      "text/plain": [
       "Index(['time', 'user_id', 'username', 'text', 'retweets', 'favorites',\n",
       "       'tweet_hashtags', 'location', 'user_id_str'],\n",
       "      dtype='object')"
      ]
     },
     "execution_count": 22,
     "metadata": {},
     "output_type": "execute_result"
    }
   ],
   "source": [
    "DF.columns"
   ]
  },
  {
   "cell_type": "code",
   "execution_count": 23,
   "metadata": {},
   "outputs": [],
   "source": [
    "DF_new = DF[['time', 'user_id']].copy()"
   ]
  },
  {
   "cell_type": "code",
   "execution_count": 24,
   "metadata": {},
   "outputs": [],
   "source": [
    "DF_new[\"time\"] = DF_new[\"time\"].astype(\"datetime64\")"
   ]
  },
  {
   "cell_type": "code",
   "execution_count": 25,
   "metadata": {
    "scrolled": true
   },
   "outputs": [
    {
     "data": {
      "text/plain": [
       "0       2020-04-11 11:37:20\n",
       "1       2020-04-11 11:29:11\n",
       "2       2020-04-11 11:05:26\n",
       "3       2020-04-11 11:03:18\n",
       "4       2020-04-11 10:30:50\n",
       "                ...        \n",
       "10545   2020-01-06 05:42:47\n",
       "10546   2020-01-03 23:25:35\n",
       "10547   2020-01-03 00:25:21\n",
       "10548   2020-01-01 21:23:42\n",
       "10549   2020-01-01 19:36:53\n",
       "Name: time, Length: 10550, dtype: datetime64[ns]"
      ]
     },
     "execution_count": 25,
     "metadata": {},
     "output_type": "execute_result"
    }
   ],
   "source": [
    "DF_new[\"time\"]"
   ]
  },
  {
   "cell_type": "code",
   "execution_count": 26,
   "metadata": {},
   "outputs": [],
   "source": [
    "start_date= \"2020-01-01\"\n",
    "end_date= \"2020-01-15\""
   ]
  },
  {
   "cell_type": "code",
   "execution_count": 27,
   "metadata": {},
   "outputs": [],
   "source": [
    "mask = (DF_new['time'] >= start_date) & (DF_new['time'] <= end_date)"
   ]
  },
  {
   "cell_type": "code",
   "execution_count": 28,
   "metadata": {},
   "outputs": [],
   "source": [
    "df1 = DF_new.loc[mask]"
   ]
  },
  {
   "cell_type": "code",
   "execution_count": 29,
   "metadata": {},
   "outputs": [
    {
     "data": {
      "text/plain": [
       "8443    2020-01-14 23:50:05\n",
       "8444    2020-01-14 23:48:55\n",
       "8445    2020-01-14 23:26:53\n",
       "8446    2020-01-14 23:20:00\n",
       "8447    2020-01-14 23:09:18\n",
       "                ...        \n",
       "10545   2020-01-06 05:42:47\n",
       "10546   2020-01-03 23:25:35\n",
       "10547   2020-01-03 00:25:21\n",
       "10548   2020-01-01 21:23:42\n",
       "10549   2020-01-01 19:36:53\n",
       "Name: time, Length: 1382, dtype: datetime64[ns]"
      ]
     },
     "execution_count": 29,
     "metadata": {},
     "output_type": "execute_result"
    }
   ],
   "source": [
    "df1['time']"
   ]
  },
  {
   "cell_type": "code",
   "execution_count": 30,
   "metadata": {},
   "outputs": [],
   "source": [
    "G = nx.read_gpickle(\"Our_Gragh_0.4Sim\")"
   ]
  },
  {
   "cell_type": "code",
   "execution_count": 31,
   "metadata": {},
   "outputs": [],
   "source": [
    "stage1=G.subgraph(df1['user_id'])"
   ]
  },
  {
   "cell_type": "code",
   "execution_count": 32,
   "metadata": {},
   "outputs": [
    {
     "data": {
      "text/plain": [
       "114"
      ]
     },
     "execution_count": 32,
     "metadata": {},
     "output_type": "execute_result"
    }
   ],
   "source": [
    "len(stage1.nodes())"
   ]
  },
  {
   "cell_type": "code",
   "execution_count": 33,
   "metadata": {},
   "outputs": [
    {
     "name": "stdout",
     "output_type": "stream",
     "text": [
      "The average clustering coefficient is 0.20370718462823725 in Stage 1\n"
     ]
    }
   ],
   "source": [
    "print(f\"The average clustering coefficient is {nx.average_clustering(stage1)} in Stage 1\")\n",
    "cluster_1=nx.average_clustering(stage1)"
   ]
  },
  {
   "cell_type": "code",
   "execution_count": 34,
   "metadata": {},
   "outputs": [],
   "source": [
    "start_date= \"2020-01-01\"\n",
    "end_date= \"2020-01-30\"\n",
    "mask2 = (DF_new['time'] >= start_date) & (DF_new['time'] <= end_date)"
   ]
  },
  {
   "cell_type": "code",
   "execution_count": 35,
   "metadata": {},
   "outputs": [],
   "source": [
    "df2 = DF_new.loc[mask2]"
   ]
  },
  {
   "cell_type": "code",
   "execution_count": 36,
   "metadata": {},
   "outputs": [
    {
     "data": {
      "text/plain": [
       "196"
      ]
     },
     "execution_count": 36,
     "metadata": {},
     "output_type": "execute_result"
    }
   ],
   "source": [
    "stage2=G.subgraph(df2['user_id'])\n",
    "len(stage2.nodes())"
   ]
  },
  {
   "cell_type": "code",
   "execution_count": 37,
   "metadata": {},
   "outputs": [
    {
     "name": "stdout",
     "output_type": "stream",
     "text": [
      "The average clustering coefficient is 0.2559788850605177 in Stage 2\n"
     ]
    }
   ],
   "source": [
    "print(f\"The average clustering coefficient is {nx.average_clustering(stage2)} in Stage 2\")\n",
    "cluster_2=nx.average_clustering(stage2)"
   ]
  },
  {
   "cell_type": "code",
   "execution_count": 38,
   "metadata": {},
   "outputs": [],
   "source": [
    "#####STAGE 3#####"
   ]
  },
  {
   "cell_type": "code",
   "execution_count": 39,
   "metadata": {},
   "outputs": [],
   "source": [
    "start_date= \"2020-01-01\"\n",
    "end_date= \"2020-02-14\"\n",
    "mask3= (DF_new['time'] >= start_date) & (DF_new['time'] <= end_date)\n",
    "df3 = DF_new.loc[mask3]"
   ]
  },
  {
   "cell_type": "code",
   "execution_count": 40,
   "metadata": {},
   "outputs": [
    {
     "data": {
      "text/plain": [
       "273"
      ]
     },
     "execution_count": 40,
     "metadata": {},
     "output_type": "execute_result"
    }
   ],
   "source": [
    "stage3=G.subgraph(df3['user_id'])\n",
    "len(stage3.nodes())"
   ]
  },
  {
   "cell_type": "code",
   "execution_count": 41,
   "metadata": {},
   "outputs": [
    {
     "name": "stdout",
     "output_type": "stream",
     "text": [
      "The average clustering coefficient is 0.30543667102969874 in Stage 3\n"
     ]
    }
   ],
   "source": [
    "print(f\"The average clustering coefficient is {nx.average_clustering(stage3)} in Stage 3\")\n",
    "cluster_3=nx.average_clustering(stage3)"
   ]
  },
  {
   "cell_type": "code",
   "execution_count": 42,
   "metadata": {},
   "outputs": [],
   "source": [
    "#######STAGE 04  #######"
   ]
  },
  {
   "cell_type": "code",
   "execution_count": 43,
   "metadata": {},
   "outputs": [],
   "source": [
    "start_date= \"2020-01-01\"\n",
    "end_date= \"2020-02-29\"\n",
    "mask4= (DF_new['time'] >= start_date) & (DF_new['time'] <= end_date)\n",
    "df4= DF_new.loc[mask4]"
   ]
  },
  {
   "cell_type": "code",
   "execution_count": 44,
   "metadata": {},
   "outputs": [
    {
     "data": {
      "text/plain": [
       "342"
      ]
     },
     "execution_count": 44,
     "metadata": {},
     "output_type": "execute_result"
    }
   ],
   "source": [
    "stage4=G.subgraph(df4['user_id'])\n",
    "len(stage4.nodes())"
   ]
  },
  {
   "cell_type": "code",
   "execution_count": 45,
   "metadata": {},
   "outputs": [
    {
     "name": "stdout",
     "output_type": "stream",
     "text": [
      "The average clustering coefficient is 0.3199791020461648 in Stage 4\n"
     ]
    }
   ],
   "source": [
    "print(f\"The average clustering coefficient is {nx.average_clustering(stage4)} in Stage 4\")\n",
    "cluster_4=nx.average_clustering(stage4)"
   ]
  },
  {
   "cell_type": "code",
   "execution_count": 46,
   "metadata": {},
   "outputs": [],
   "source": [
    "####### STAGE 5 #####"
   ]
  },
  {
   "cell_type": "code",
   "execution_count": 47,
   "metadata": {},
   "outputs": [],
   "source": [
    "start_date= \"2020-01-01\"\n",
    "end_date= \"2020-03-15\"\n",
    "mask5= (DF_new['time'] >= start_date) & (DF_new['time'] <= end_date)\n",
    "df5= DF_new.loc[mask5]"
   ]
  },
  {
   "cell_type": "code",
   "execution_count": 48,
   "metadata": {},
   "outputs": [
    {
     "data": {
      "text/plain": [
       "403"
      ]
     },
     "execution_count": 48,
     "metadata": {},
     "output_type": "execute_result"
    }
   ],
   "source": [
    "stage5=G.subgraph(df5['user_id'])\n",
    "len(stage5.nodes())"
   ]
  },
  {
   "cell_type": "code",
   "execution_count": 49,
   "metadata": {},
   "outputs": [
    {
     "name": "stdout",
     "output_type": "stream",
     "text": [
      "The average clustering coefficient is 0.32692721637132366 in Stage 5\n"
     ]
    }
   ],
   "source": [
    "print(f\"The average clustering coefficient is {nx.average_clustering(stage5)} in Stage 5\")\n",
    "cluster_5=nx.average_clustering(stage5)"
   ]
  },
  {
   "cell_type": "code",
   "execution_count": 50,
   "metadata": {},
   "outputs": [],
   "source": [
    "####### STAGE 6 #####"
   ]
  },
  {
   "cell_type": "code",
   "execution_count": 51,
   "metadata": {},
   "outputs": [],
   "source": [
    "start_date= \"2020-01-01\"\n",
    "end_date= \"2020-03-30\"\n",
    "mask6= (DF_new['time'] >= start_date) & (DF_new['time'] <= end_date)\n",
    "df6= DF_new.loc[mask6]"
   ]
  },
  {
   "cell_type": "code",
   "execution_count": 52,
   "metadata": {},
   "outputs": [
    {
     "data": {
      "text/plain": [
       "462"
      ]
     },
     "execution_count": 52,
     "metadata": {},
     "output_type": "execute_result"
    }
   ],
   "source": [
    "stage6=G.subgraph(df6['user_id'])\n",
    "len(stage6.nodes())"
   ]
  },
  {
   "cell_type": "code",
   "execution_count": 53,
   "metadata": {},
   "outputs": [
    {
     "name": "stdout",
     "output_type": "stream",
     "text": [
      "The average clustering coefficient is 0.3261964241919069 in Stage 6\n"
     ]
    }
   ],
   "source": [
    "print(f\"The average clustering coefficient is {nx.average_clustering(stage6)} in Stage 6\")\n",
    "cluster_6=nx.average_clustering(stage6)"
   ]
  },
  {
   "cell_type": "code",
   "execution_count": 54,
   "metadata": {},
   "outputs": [],
   "source": [
    "####### STAGE 7 #####"
   ]
  },
  {
   "cell_type": "code",
   "execution_count": 55,
   "metadata": {},
   "outputs": [],
   "source": [
    "start_date= \"2020-01-01\"\n",
    "end_date= \"2020-04-11\"\n",
    "mask7= (DF_new['time'] >= start_date) & (DF_new['time'] <= end_date)\n",
    "df7= DF_new.loc[mask7]"
   ]
  },
  {
   "cell_type": "code",
   "execution_count": 56,
   "metadata": {},
   "outputs": [
    {
     "data": {
      "text/plain": [
       "530"
      ]
     },
     "execution_count": 56,
     "metadata": {},
     "output_type": "execute_result"
    }
   ],
   "source": [
    "stage7=G.subgraph(df7['user_id'])\n",
    "len(stage7.nodes())"
   ]
  },
  {
   "cell_type": "code",
   "execution_count": 57,
   "metadata": {},
   "outputs": [
    {
     "name": "stdout",
     "output_type": "stream",
     "text": [
      "The average clustering coefficient is 0.3547657170818124 in Stage 7\n"
     ]
    }
   ],
   "source": [
    "print(f\"The average clustering coefficient is {nx.average_clustering(stage7)} in Stage 7\")\n",
    "cluster_7=nx.average_clustering(stage7)"
   ]
  },
  {
   "cell_type": "code",
   "execution_count": 58,
   "metadata": {},
   "outputs": [],
   "source": [
    "list_clusters=[cluster_1,cluster_2,cluster_3,cluster_4,cluster_5,cluster_6,cluster_7]\n",
    "x_labels = [' ', '2020_01_15', '2020_01_30', '2020_02_14', '2020_02_29', '2020_03_15', '2020_03_30','2020_04_11']"
   ]
  },
  {
   "cell_type": "code",
   "execution_count": 64,
   "metadata": {},
   "outputs": [
    {
     "data": {
      "image/png": "[encoded data removed]",
      "text/plain": [
       "<Figure size 864x576 with 1 Axes>"
      ]
     },
     "metadata": {
      "needs_background": "light"
     },
     "output_type": "display_data"
    }
   ],
   "source": [
    "freq_cluster = pd.Series(list_clusters)\n",
    "#freq_cluster = pd.Series.from_array(list_clusters)\n",
    "plt.figure(figsize=(12, 8))\n",
    "ax = freq_cluster.plot(kind='line')\n",
    "ax.set_title('The time evolution of the clustering coefficient (15 days time interval).')\n",
    "ax.set_xlabel('time period')\n",
    "ax.set_ylabel('Average clustering coefficient')\n",
    "ax.set_xticklabels(x_labels)\n",
    "# Make some labels.\n",
    "plt.savefig('time_evolution_of_clustering_coefficient.png')"
   ]
  },
  {
   "cell_type": "code",
   "execution_count": null,
   "metadata": {},
   "outputs": [],
   "source": [
    "#Combining all the BAR PLOTS of number of tweets of the three hashtags"
   ]
  },
  {
   "cell_type": "code",
   "execution_count": 60,
   "metadata": {},
   "outputs": [
    {
     "data": {
      "image/png": "[encoded data removed]",
      "text/plain": [
       "<Figure size 1440x720 with 1 Axes>"
      ]
     },
     "metadata": {
      "needs_background": "light"
     },
     "output_type": "display_data"
    }
   ],
   "source": [
    "fig, ax = plt.subplots(figsize=(20,10))\n",
    "newdf_parking.groupby(newdf_parking[\"time\"].dt.week).count().plot(kind=\"bar\",  ax=ax)\n",
    "df_parkinglot.groupby(df_parkinglot[\"time\"].dt.week).count().plot(kind=\"bar\", color='black', ax=ax)\n",
    "df_parkinggarage.groupby(df_parkinggarage[\"time\"].dt.week).count().plot(kind=\"bar\", color=\"red\",ax=ax)\n",
    "ax.legend([\"Parking\", \"parkinglot\",\"parkinggarage\" ])\n",
    "ax.set_ylabel('counts')\n",
    "ax.set_xlabel('Time by week')\n",
    "ax.set_title('Number of tweets of each hashtag per time interval(per week)')\n",
    "fig.savefig('Number of tweets of each hashtag per time interval(per week).png')"
   ]
  },
  {
   "cell_type": "code",
   "execution_count": null,
   "metadata": {},
   "outputs": [],
   "source": []
  },
  {
   "cell_type": "code",
   "execution_count": null,
   "metadata": {},
   "outputs": [],
   "source": []
  }
 ],
 "metadata": {
  "kernelspec": {
   "display_name": "Python 3",
   "language": "python",
   "name": "python3"
  },
  "language_info": {
   "codemirror_mode": {
    "name": "ipython",
    "version": 3
   },
   "file_extension": ".py",
   "mimetype": "text/x-python",
   "name": "python",
   "nbconvert_exporter": "python",
   "pygments_lexer": "ipython3",
   "version": "3.6.10"
  }
 },
 "nbformat": 4,
 "nbformat_minor": 4
}
