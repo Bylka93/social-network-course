{
 "cells": [
  {
   "cell_type": "markdown",
   "metadata": {},
   "source": [
    "## Adding user ids and user location information to the data we got by using \"Get Old Tweets 3\" library"
   ]
  },
  {
   "cell_type": "code",
   "execution_count": 1,
   "metadata": {},
   "outputs": [],
   "source": [
    "import tweepy\n",
    "import pandas as pd\n",
    "import json\n",
    "\n",
    "#Credentials\n",
    "consumer_key = ''\n",
    "consumer_secret = ''\n",
    "access_token = ''\n",
    "access_token_secret = ''\n",
    "\n",
    "auth = tweepy.OAuthHandler(consumer_key, consumer_secret)\n",
    "auth.set_access_token(access_token, access_token_secret)\n",
    "api = tweepy.API(auth,wait_on_rate_limit=True)"
   ]
  },
  {
   "cell_type": "code",
   "execution_count": 60,
   "metadata": {},
   "outputs": [],
   "source": [
    "# Reading the dataset; this was done to each hashtag data file separately, by changing the file that is being read in\n",
    "data = pd.read_csv('parking_from_1st_OCTOBER.csv', encoding = \"latin\") "
   ]
  },
  {
   "cell_type": "code",
   "execution_count": 62,
   "metadata": {},
   "outputs": [],
   "source": [
    "# Some preparation for data set\n",
    "data['id'] = None\n",
    "data = data.rename(columns={\"id\": \"user_id\"})"
   ]
  },
  {
   "cell_type": "code",
   "execution_count": 63,
   "metadata": {},
   "outputs": [],
   "source": [
    "screen_names = data['username'].unique()"
   ]
  },
  {
   "cell_type": "code",
   "execution_count": 64,
   "metadata": {},
   "outputs": [
    {
     "data": {
      "text/plain": [
       "6383"
      ]
     },
     "execution_count": 64,
     "metadata": {},
     "output_type": "execute_result"
    }
   ],
   "source": [
    "len(screen_names) # This many unique users in the data set"
   ]
  },
  {
   "cell_type": "code",
   "execution_count": 66,
   "metadata": {},
   "outputs": [],
   "source": [
    "names_to_id = {}\n",
    "\n",
    "for sname in screen_names:\n",
    "    try:\n",
    "        user = api.get_user(screen_name = sname) # Get user object by screen name\n",
    "        uid_str = user.id_str\n",
    "        uid = user.id\n",
    "        location = user.location\n",
    "        names_to_id[sname] = (uid_str, uid, location) # Save the integer (and string) user id and location for the current user into a dictionary\n",
    "        \n",
    "    except Exception as e: # For example, user can have been suspended\n",
    "        names_to_id[sname] = (None, None, None)"
   ]
  },
  {
   "cell_type": "code",
   "execution_count": 70,
   "metadata": {},
   "outputs": [],
   "source": [
    "data['user_id'] = data['username'].apply(lambda x: names_to_id[x][1])\n",
    "data['location'] = data['username'].apply(lambda x: names_to_id[x][2])\n",
    "data['user_id_str'] = data['username'].apply(lambda x: names_to_id[x][0])"
   ]
  },
  {
   "cell_type": "code",
   "execution_count": 73,
   "metadata": {},
   "outputs": [],
   "source": [
    "# Saving the modified data file\n",
    "data.to_csv('parking_final.csv', index=False)"
   ]
  },
  {
   "cell_type": "code",
   "execution_count": 68,
   "metadata": {},
   "outputs": [],
   "source": [
    "# Saving the dictionary to JSON file\n",
    "with open('parking_user_ids_locations.json', 'w') as file:\n",
    "    json.dump(names_to_id, file)"
   ]
  },
  {
   "cell_type": "code",
   "execution_count": null,
   "metadata": {},
   "outputs": [],
   "source": []
  }
 ],
 "metadata": {
  "kernelspec": {
   "display_name": "Python 3",
   "language": "python",
   "name": "python3"
  },
  "language_info": {
   "codemirror_mode": {
    "name": "ipython",
    "version": 3
   },
   "file_extension": ".py",
   "mimetype": "text/x-python",
   "name": "python",
   "nbconvert_exporter": "python",
   "pygments_lexer": "ipython3",
   "version": "3.7.0"
  }
 },
 "nbformat": 4,
 "nbformat_minor": 2
}
